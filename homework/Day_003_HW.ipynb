{
 "cells": [
  {
   "cell_type": "markdown",
   "metadata": {},
   "source": [
    "作業 1：目標"
   ]
  },
  {
   "cell_type": "code",
   "execution_count": 3,
   "metadata": {},
   "outputs": [
    {
     "data": {
      "text/plain": [
       "'把運營的核心從“場”轉向“人”，走向單客戶運營的模式。從客戶的需求出發設計產品，然後再去尋找合適的節點進行銷售。傳統千店一面的鋪貨模式也需要更新為千店千面，根據周邊的消費人群和門店所有的商圈，為其鋪設不同的商品。'"
      ]
     },
     "execution_count": 3,
     "metadata": {},
     "output_type": "execute_result"
    }
   ],
   "source": [
    "'把運營的核心從“場”轉向“人”，走向單客戶運營的模式。從客戶的需求出發設計產品，然後再去尋找合適的節點進行銷售。傳統千店一面的鋪貨模式也需要更新為千店千面，根據周邊的消費人群和門店所有的商圈，為其鋪設不同的商品。'"
   ]
  },
  {
   "cell_type": "markdown",
   "metadata": {},
   "source": [
    "作業 2：方法"
   ]
  },
  {
   "cell_type": "code",
   "execution_count": 2,
   "metadata": {},
   "outputs": [
    {
     "data": {
      "text/plain": [
       "'數據化轉型，用數據驅動運營，實現流程的自動化和決策的智能化。'"
      ]
     },
     "execution_count": 2,
     "metadata": {},
     "output_type": "execute_result"
    }
   ],
   "source": [
    "'數據化轉型，用數據驅動運營，實現流程的自動化和決策的智能化。'"
   ]
  },
  {
   "cell_type": "markdown",
   "metadata": {},
   "source": [
    "作業 3：資料來源"
   ]
  },
  {
   "cell_type": "code",
   "execution_count": 4,
   "metadata": {},
   "outputs": [
    {
     "data": {
      "text/plain": [
       "'在門店端也做了許多嘗試，設置了大量的數據採集節點。'"
      ]
     },
     "execution_count": 4,
     "metadata": {},
     "output_type": "execute_result"
    }
   ],
   "source": [
    "'在門店端也做了許多嘗試，設置了大量的數據採集節點。'"
   ]
  }
 ],
 "metadata": {
  "kernelspec": {
   "display_name": "Python 3.6",
   "language": "python",
   "name": "python36"
  },
  "language_info": {
   "codemirror_mode": {
    "name": "ipython",
    "version": 3
   },
   "file_extension": ".py",
   "mimetype": "text/x-python",
   "name": "python",
   "nbconvert_exporter": "python",
   "pygments_lexer": "ipython3",
   "version": "3.6.6"
  }
 },
 "nbformat": 4,
 "nbformat_minor": 2
}
